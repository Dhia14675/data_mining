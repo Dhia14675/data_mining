{
 "cells": [
  {
   "cell_type": "code",
   "execution_count": 81,
   "metadata": {},
   "outputs": [],
   "source": [
    "import pandas as pd\n",
    "import matplotlib.pyplot as plt\n",
    "import seaborn as sns\n",
    "from sklearn.preprocessing import OneHotEncoder\n",
    "from sklearn.preprocessing import LabelEncoder\n"
   ]
  },
  {
   "cell_type": "code",
   "execution_count": 41,
   "metadata": {},
   "outputs": [
    {
     "name": "stdout",
     "output_type": "stream",
     "text": [
      "      NO      NAMA   USIA  PARITAS JARAK KELAHIRAN RIW HIPERTENSI RIW PE  \\\n",
      "0      1    NAMA 1  23 TH        3       < 2 tahun          Tidak  Tidak   \n",
      "1      2    NAMA 2  29 TH        2       < 2 tahun          Tidak    PEB   \n",
      "2      3    NAMA 3  20 TH        1    anak pertama          Tidak  Tidak   \n",
      "3      4    NAMA 4  18 TH        1    anak pertama          Tidak  Tidak   \n",
      "4      5    NAMA 5  34 TH        3      > 2 tahun           Tidak  Tidak   \n",
      "..   ...       ...    ...      ...             ...            ...    ...   \n",
      "556  558  NAMA 557  40 TH        3      > 2 tahun           Tidak  Tidak   \n",
      "557  559  NAMA 558  28 TH        3       < 2 tahun          Tidak  Tidak   \n",
      "558  560  NAMA 559  41 TH        3      > 2 tahun           Tidak  Tidak   \n",
      "559  561  NAMA 560  32 TH        2      > 2 tahun           Tidak  Tidak   \n",
      "560  562  NAMA 561  30 TH        2      > 2 tahun           Tidak  Tidak   \n",
      "\n",
      "    OBESITAS RIW DM RIW HIPERTENSI/PE DALAM KELUARGA SOSEK RENDAH PE/Non PE  \\\n",
      "0      Tidak     Ya                            Tidak         >UMR    Non PE   \n",
      "1      Tidak  Tidak                              Ada         >UMR        PE   \n",
      "2      Tidak  Tidak                            Tidak         >UMR    Non PE   \n",
      "3      Tidak  Tidak                            Tidak         >UMR    Non PE   \n",
      "4      Tidak  Tidak                            Tidak         >UMR    Non PE   \n",
      "..       ...    ...                              ...          ...       ...   \n",
      "556    Tidak  Tidak                            Tidak         >UMR    Non PE   \n",
      "557    Tidak  Tidak                            Tidak         >UMR    Non PE   \n",
      "558    Tidak  Tidak                            Tidak         >UMR    Non PE   \n",
      "559    Tidak  Tidak                            Tidak         >UMR    Non PE   \n",
      "560    Tidak  Tidak                            Tidak         >UMR    Non PE   \n",
      "\n",
      "    Unnamed: 12  \n",
      "0           NaN  \n",
      "1           NaN  \n",
      "2           NaN  \n",
      "3           NaN  \n",
      "4           NaN  \n",
      "..          ...  \n",
      "556         NaN  \n",
      "557         NaN  \n",
      "558         NaN  \n",
      "559         NaN  \n",
      "560         NaN  \n",
      "\n",
      "[561 rows x 13 columns]\n"
     ]
    }
   ],
   "source": [
    "data = pd.read_excel('dataKasus-1.xlsx')\n",
    "print(data)"
   ]
  },
  {
   "cell_type": "code",
   "execution_count": 42,
   "metadata": {},
   "outputs": [],
   "source": [
    "data2 = data.drop(columns=['Unnamed: 12'])"
   ]
  },
  {
   "cell_type": "code",
   "execution_count": 43,
   "metadata": {},
   "outputs": [
    {
     "name": "stdout",
     "output_type": "stream",
     "text": [
      "<class 'pandas.core.frame.DataFrame'>\n",
      "RangeIndex: 561 entries, 0 to 560\n",
      "Data columns (total 12 columns):\n",
      " #   Column                            Non-Null Count  Dtype \n",
      "---  ------                            --------------  ----- \n",
      " 0   NO                                561 non-null    int64 \n",
      " 1   NAMA                              561 non-null    object\n",
      " 2   USIA                              558 non-null    object\n",
      " 3   PARITAS                           561 non-null    int64 \n",
      " 4   JARAK KELAHIRAN                   554 non-null    object\n",
      " 5   RIW HIPERTENSI                    561 non-null    object\n",
      " 6   RIW PE                            561 non-null    object\n",
      " 7   OBESITAS                          561 non-null    object\n",
      " 8   RIW DM                            561 non-null    object\n",
      " 9   RIW HIPERTENSI/PE DALAM KELUARGA  561 non-null    object\n",
      " 10  SOSEK RENDAH                      561 non-null    object\n",
      " 11  PE/Non PE                         561 non-null    object\n",
      "dtypes: int64(2), object(10)\n",
      "memory usage: 52.7+ KB\n"
     ]
    }
   ],
   "source": [
    "data2.info()"
   ]
  },
  {
   "cell_type": "code",
   "execution_count": 44,
   "metadata": {},
   "outputs": [],
   "source": [
    "def counts(nama_kolom):\n",
    "    counts = data2[nama_kolom].value_counts()\n",
    "    return counts\n"
   ]
  },
  {
   "cell_type": "code",
   "execution_count": 45,
   "metadata": {},
   "outputs": [],
   "source": [
    "data2['USIA'] = data2['USIA'].astype(str).str.replace(' TH', '')\n",
    "data2['USIA'] = pd.to_numeric(data2['USIA'], errors='coerce')"
   ]
  },
  {
   "cell_type": "code",
   "execution_count": 46,
   "metadata": {},
   "outputs": [
    {
     "name": "stderr",
     "output_type": "stream",
     "text": [
      "C:\\Users\\ACER\\AppData\\Local\\Temp\\ipykernel_4044\\1444560162.py:2: FutureWarning: A value is trying to be set on a copy of a DataFrame or Series through chained assignment using an inplace method.\n",
      "The behavior will change in pandas 3.0. This inplace method will never work because the intermediate object on which we are setting values always behaves as a copy.\n",
      "\n",
      "For example, when doing 'df[col].method(value, inplace=True)', try using 'df.method({col: value}, inplace=True)' or df[col] = df[col].method(value) instead, to perform the operation inplace on the original object.\n",
      "\n",
      "\n",
      "  data2['USIA'].fillna(mean_age, inplace=True)\n"
     ]
    }
   ],
   "source": [
    "mean_age = data2['USIA'].mean()\n",
    "data2['USIA'].fillna(mean_age, inplace=True)\n",
    "data2 = data2.dropna()"
   ]
  },
  {
   "cell_type": "code",
   "execution_count": 47,
   "metadata": {},
   "outputs": [
    {
     "name": "stdout",
     "output_type": "stream",
     "text": [
      "0      23.0\n",
      "1      29.0\n",
      "2      20.0\n",
      "3      18.0\n",
      "4      34.0\n",
      "       ... \n",
      "556    40.0\n",
      "557    28.0\n",
      "558    41.0\n",
      "559    32.0\n",
      "560    30.0\n",
      "Name: USIA, Length: 554, dtype: float64\n"
     ]
    }
   ],
   "source": [
    "print(data2['USIA'])"
   ]
  },
  {
   "cell_type": "code",
   "execution_count": 48,
   "metadata": {},
   "outputs": [
    {
     "name": "stdout",
     "output_type": "stream",
     "text": [
      "0         < 2 tahun\n",
      "1         < 2 tahun\n",
      "2      anak pertama\n",
      "3      anak pertama\n",
      "4        > 2 tahun \n",
      "           ...     \n",
      "556      > 2 tahun \n",
      "557       < 2 tahun\n",
      "558      > 2 tahun \n",
      "559      > 2 tahun \n",
      "560      > 2 tahun \n",
      "Name: JARAK KELAHIRAN, Length: 554, dtype: object\n"
     ]
    }
   ],
   "source": [
    "print(data2['JARAK KELAHIRAN'])"
   ]
  },
  {
   "cell_type": "code",
   "execution_count": 49,
   "metadata": {},
   "outputs": [],
   "source": [
    "data2['JARAK KELAHIRAN'] = data2['JARAK KELAHIRAN'].replace('> 2 tahun ','> 2 tahun')"
   ]
  },
  {
   "cell_type": "code",
   "execution_count": 50,
   "metadata": {},
   "outputs": [],
   "source": [
    "data2['JARAK KELAHIRAN'] = LabelEncoder().fit_transform(data2['JARAK KELAHIRAN'])"
   ]
  },
  {
   "cell_type": "code",
   "execution_count": 51,
   "metadata": {},
   "outputs": [
    {
     "name": "stdout",
     "output_type": "stream",
     "text": [
      "JARAK KELAHIRAN\n",
      "2    260\n",
      "1    213\n",
      "0     81\n",
      "Name: count, dtype: int64\n"
     ]
    }
   ],
   "source": [
    "print(counts('JARAK KELAHIRAN'))"
   ]
  },
  {
   "cell_type": "code",
   "execution_count": 52,
   "metadata": {},
   "outputs": [
    {
     "name": "stdout",
     "output_type": "stream",
     "text": [
      "<class 'pandas.core.frame.DataFrame'>\n",
      "Index: 554 entries, 0 to 560\n",
      "Data columns (total 12 columns):\n",
      " #   Column                            Non-Null Count  Dtype  \n",
      "---  ------                            --------------  -----  \n",
      " 0   NO                                554 non-null    int64  \n",
      " 1   NAMA                              554 non-null    object \n",
      " 2   USIA                              554 non-null    float64\n",
      " 3   PARITAS                           554 non-null    int64  \n",
      " 4   JARAK KELAHIRAN                   554 non-null    int64  \n",
      " 5   RIW HIPERTENSI                    554 non-null    object \n",
      " 6   RIW PE                            554 non-null    object \n",
      " 7   OBESITAS                          554 non-null    object \n",
      " 8   RIW DM                            554 non-null    object \n",
      " 9   RIW HIPERTENSI/PE DALAM KELUARGA  554 non-null    object \n",
      " 10  SOSEK RENDAH                      554 non-null    object \n",
      " 11  PE/Non PE                         554 non-null    object \n",
      "dtypes: float64(1), int64(3), object(8)\n",
      "memory usage: 56.3+ KB\n"
     ]
    }
   ],
   "source": [
    "data2.info()"
   ]
  },
  {
   "cell_type": "code",
   "execution_count": 53,
   "metadata": {},
   "outputs": [
    {
     "name": "stdout",
     "output_type": "stream",
     "text": [
      "<bound method NDFrame.head of 0      Tidak\n",
      "1        PEB\n",
      "2      Tidak\n",
      "3      Tidak\n",
      "4      Tidak\n",
      "       ...  \n",
      "556    Tidak\n",
      "557    Tidak\n",
      "558    Tidak\n",
      "559    Tidak\n",
      "560    Tidak\n",
      "Name: RIW PE, Length: 554, dtype: object>\n"
     ]
    }
   ],
   "source": [
    "print(data2['RIW PE'].head)"
   ]
  },
  {
   "cell_type": "code",
   "execution_count": 54,
   "metadata": {},
   "outputs": [],
   "source": [
    "data2['RIW HIPERTENSI'] = data2['RIW HIPERTENSI'].map({'Ya':1,'Tidak':0})"
   ]
  },
  {
   "cell_type": "code",
   "execution_count": 55,
   "metadata": {},
   "outputs": [
    {
     "name": "stdout",
     "output_type": "stream",
     "text": [
      "RIW HIPERTENSI\n",
      "0    501\n",
      "1     53\n",
      "Name: count, dtype: int64\n"
     ]
    }
   ],
   "source": [
    "print(counts('RIW HIPERTENSI'))"
   ]
  },
  {
   "cell_type": "code",
   "execution_count": 56,
   "metadata": {},
   "outputs": [
    {
     "name": "stdout",
     "output_type": "stream",
     "text": [
      "RIW PE\n",
      "Tidak                     519\n",
      "PEB                        19\n",
      "PE                          6\n",
      "Impending PE                2\n",
      "HELLP SYNDROM               2\n",
      "Impending Eklamsia          1\n",
      "Kejang Konvulsi             1\n",
      "impending eklamsia          1\n",
      "PE, HELLP Syndrome          1\n",
      "PEB impending eklampsi      1\n",
      "Impending Ekalmsia          1\n",
      "Name: count, dtype: int64\n"
     ]
    }
   ],
   "source": [
    "print(counts('RIW PE'))"
   ]
  },
  {
   "cell_type": "code",
   "execution_count": 57,
   "metadata": {},
   "outputs": [],
   "source": [
    "data2['RIW PE'] = data2['RIW PE'].apply(lambda x: 'Ya' if x != 'Tidak' else 'Tidak')\n",
    "data2['RIW PE'] = data2['RIW PE'].map({'Ya':1,'Tidak':0})"
   ]
  },
  {
   "cell_type": "code",
   "execution_count": 58,
   "metadata": {},
   "outputs": [
    {
     "name": "stdout",
     "output_type": "stream",
     "text": [
      "RIW PE\n",
      "0    519\n",
      "1     35\n",
      "Name: count, dtype: int64\n"
     ]
    }
   ],
   "source": [
    "print(counts('RIW PE'))"
   ]
  },
  {
   "cell_type": "code",
   "execution_count": 59,
   "metadata": {},
   "outputs": [
    {
     "name": "stdout",
     "output_type": "stream",
     "text": [
      "<class 'pandas.core.frame.DataFrame'>\n",
      "Index: 554 entries, 0 to 560\n",
      "Data columns (total 12 columns):\n",
      " #   Column                            Non-Null Count  Dtype  \n",
      "---  ------                            --------------  -----  \n",
      " 0   NO                                554 non-null    int64  \n",
      " 1   NAMA                              554 non-null    object \n",
      " 2   USIA                              554 non-null    float64\n",
      " 3   PARITAS                           554 non-null    int64  \n",
      " 4   JARAK KELAHIRAN                   554 non-null    int64  \n",
      " 5   RIW HIPERTENSI                    554 non-null    int64  \n",
      " 6   RIW PE                            554 non-null    int64  \n",
      " 7   OBESITAS                          554 non-null    object \n",
      " 8   RIW DM                            554 non-null    object \n",
      " 9   RIW HIPERTENSI/PE DALAM KELUARGA  554 non-null    object \n",
      " 10  SOSEK RENDAH                      554 non-null    object \n",
      " 11  PE/Non PE                         554 non-null    object \n",
      "dtypes: float64(1), int64(5), object(6)\n",
      "memory usage: 56.3+ KB\n"
     ]
    }
   ],
   "source": [
    "data2.info()"
   ]
  },
  {
   "cell_type": "code",
   "execution_count": 60,
   "metadata": {},
   "outputs": [
    {
     "name": "stdout",
     "output_type": "stream",
     "text": [
      "<class 'pandas.core.frame.DataFrame'>\n",
      "Index: 554 entries, 0 to 560\n",
      "Data columns (total 12 columns):\n",
      " #   Column                            Non-Null Count  Dtype  \n",
      "---  ------                            --------------  -----  \n",
      " 0   NO                                554 non-null    int64  \n",
      " 1   NAMA                              554 non-null    object \n",
      " 2   USIA                              554 non-null    float64\n",
      " 3   PARITAS                           554 non-null    int64  \n",
      " 4   JARAK KELAHIRAN                   554 non-null    int64  \n",
      " 5   RIW HIPERTENSI                    554 non-null    int64  \n",
      " 6   RIW PE                            554 non-null    int64  \n",
      " 7   OBESITAS                          554 non-null    object \n",
      " 8   RIW DM                            554 non-null    object \n",
      " 9   RIW HIPERTENSI/PE DALAM KELUARGA  554 non-null    object \n",
      " 10  SOSEK RENDAH                      554 non-null    object \n",
      " 11  PE/Non PE                         554 non-null    object \n",
      "dtypes: float64(1), int64(5), object(6)\n",
      "memory usage: 56.3+ KB\n"
     ]
    }
   ],
   "source": [
    "data2.info()"
   ]
  },
  {
   "cell_type": "code",
   "execution_count": 61,
   "metadata": {},
   "outputs": [
    {
     "name": "stdout",
     "output_type": "stream",
     "text": [
      "RIW HIPERTENSI/PE DALAM KELUARGA\n",
      "Tidak    543\n",
      "Ada       11\n",
      "Name: count, dtype: int64\n"
     ]
    }
   ],
   "source": [
    "print(counts('RIW HIPERTENSI/PE DALAM KELUARGA'))"
   ]
  },
  {
   "cell_type": "code",
   "execution_count": 62,
   "metadata": {},
   "outputs": [],
   "source": [
    "columns_to_encode = ['OBESITAS', 'RIW DM']\n",
    "for col in columns_to_encode:\n",
    "    data2[col] = data2[col].map({'Ya': 1, 'Tidak': 0})"
   ]
  },
  {
   "cell_type": "code",
   "execution_count": 63,
   "metadata": {},
   "outputs": [
    {
     "name": "stdout",
     "output_type": "stream",
     "text": [
      "OBESITAS\n",
      "0    550\n",
      "1      4\n",
      "Name: count, dtype: int64\n"
     ]
    }
   ],
   "source": [
    "print(counts('OBESITAS'))"
   ]
  },
  {
   "cell_type": "code",
   "execution_count": 64,
   "metadata": {},
   "outputs": [
    {
     "data": {
      "text/plain": [
       "RIW DM\n",
       "0    549\n",
       "1      5\n",
       "Name: count, dtype: int64"
      ]
     },
     "execution_count": 64,
     "metadata": {},
     "output_type": "execute_result"
    }
   ],
   "source": [
    "counts('RIW DM')"
   ]
  },
  {
   "cell_type": "code",
   "execution_count": 65,
   "metadata": {},
   "outputs": [
    {
     "name": "stdout",
     "output_type": "stream",
     "text": [
      "<class 'pandas.core.frame.DataFrame'>\n",
      "Index: 554 entries, 0 to 560\n",
      "Data columns (total 12 columns):\n",
      " #   Column                            Non-Null Count  Dtype  \n",
      "---  ------                            --------------  -----  \n",
      " 0   NO                                554 non-null    int64  \n",
      " 1   NAMA                              554 non-null    object \n",
      " 2   USIA                              554 non-null    float64\n",
      " 3   PARITAS                           554 non-null    int64  \n",
      " 4   JARAK KELAHIRAN                   554 non-null    int64  \n",
      " 5   RIW HIPERTENSI                    554 non-null    int64  \n",
      " 6   RIW PE                            554 non-null    int64  \n",
      " 7   OBESITAS                          554 non-null    int64  \n",
      " 8   RIW DM                            554 non-null    int64  \n",
      " 9   RIW HIPERTENSI/PE DALAM KELUARGA  554 non-null    object \n",
      " 10  SOSEK RENDAH                      554 non-null    object \n",
      " 11  PE/Non PE                         554 non-null    object \n",
      "dtypes: float64(1), int64(7), object(4)\n",
      "memory usage: 56.3+ KB\n"
     ]
    }
   ],
   "source": [
    "data2.info()"
   ]
  },
  {
   "cell_type": "code",
   "execution_count": 66,
   "metadata": {},
   "outputs": [],
   "source": [
    "data2['RIW HIPERTENSI/PE DALAM KELUARGA'] = data2['RIW HIPERTENSI/PE DALAM KELUARGA'].map({'Ada':1,'Tidak':0})"
   ]
  },
  {
   "cell_type": "code",
   "execution_count": 67,
   "metadata": {},
   "outputs": [
    {
     "data": {
      "text/plain": [
       "RIW HIPERTENSI/PE DALAM KELUARGA\n",
       "0    543\n",
       "1     11\n",
       "Name: count, dtype: int64"
      ]
     },
     "execution_count": 67,
     "metadata": {},
     "output_type": "execute_result"
    }
   ],
   "source": [
    "counts('RIW HIPERTENSI/PE DALAM KELUARGA')"
   ]
  },
  {
   "cell_type": "code",
   "execution_count": 68,
   "metadata": {},
   "outputs": [
    {
     "data": {
      "text/plain": [
       "SOSEK RENDAH\n",
       ">UMR    550\n",
       "<UMR      4\n",
       "Name: count, dtype: int64"
      ]
     },
     "execution_count": 68,
     "metadata": {},
     "output_type": "execute_result"
    }
   ],
   "source": [
    "counts('SOSEK RENDAH')"
   ]
  },
  {
   "cell_type": "code",
   "execution_count": 69,
   "metadata": {},
   "outputs": [],
   "source": [
    "data2['SOSEK RENDAH'] = data2['SOSEK RENDAH'].map({'>UMR':1,'<UMR':0})"
   ]
  },
  {
   "cell_type": "code",
   "execution_count": 70,
   "metadata": {},
   "outputs": [
    {
     "data": {
      "text/plain": [
       "PE/Non PE\n",
       "Non PE                    514\n",
       "PEB                        20\n",
       "PE                         16\n",
       "Eklamsia                    1\n",
       "PE gemelli                  1\n",
       "PEB impending eklampsi      1\n",
       "PE                          1\n",
       "Name: count, dtype: int64"
      ]
     },
     "execution_count": 70,
     "metadata": {},
     "output_type": "execute_result"
    }
   ],
   "source": [
    "counts('PE/Non PE')"
   ]
  },
  {
   "cell_type": "code",
   "execution_count": 71,
   "metadata": {},
   "outputs": [],
   "source": [
    "data2['PE/Non PE'] = data2['PE/Non PE'].apply(lambda x: 'PE' if x != 'Non PE' else 'Non PE')\n",
    "data2['PE/Non PE'] = data2['PE/Non PE'].map({'PE':1,'Non PE':0})"
   ]
  },
  {
   "cell_type": "code",
   "execution_count": 72,
   "metadata": {},
   "outputs": [
    {
     "name": "stdout",
     "output_type": "stream",
     "text": [
      "PE/Non PE\n",
      "0    514\n",
      "1     40\n",
      "Name: count, dtype: int64\n"
     ]
    }
   ],
   "source": [
    "print(counts('PE/Non PE'))"
   ]
  },
  {
   "cell_type": "code",
   "execution_count": 73,
   "metadata": {},
   "outputs": [
    {
     "name": "stdout",
     "output_type": "stream",
     "text": [
      "<class 'pandas.core.frame.DataFrame'>\n",
      "Index: 554 entries, 0 to 560\n",
      "Data columns (total 12 columns):\n",
      " #   Column                            Non-Null Count  Dtype  \n",
      "---  ------                            --------------  -----  \n",
      " 0   NO                                554 non-null    int64  \n",
      " 1   NAMA                              554 non-null    object \n",
      " 2   USIA                              554 non-null    float64\n",
      " 3   PARITAS                           554 non-null    int64  \n",
      " 4   JARAK KELAHIRAN                   554 non-null    int64  \n",
      " 5   RIW HIPERTENSI                    554 non-null    int64  \n",
      " 6   RIW PE                            554 non-null    int64  \n",
      " 7   OBESITAS                          554 non-null    int64  \n",
      " 8   RIW DM                            554 non-null    int64  \n",
      " 9   RIW HIPERTENSI/PE DALAM KELUARGA  554 non-null    int64  \n",
      " 10  SOSEK RENDAH                      554 non-null    int64  \n",
      " 11  PE/Non PE                         554 non-null    int64  \n",
      "dtypes: float64(1), int64(10), object(1)\n",
      "memory usage: 56.3+ KB\n"
     ]
    }
   ],
   "source": [
    "data2.info()"
   ]
  },
  {
   "cell_type": "code",
   "execution_count": 74,
   "metadata": {},
   "outputs": [],
   "source": [
    "data2=data2.drop(columns=['NAMA'])"
   ]
  },
  {
   "cell_type": "code",
   "execution_count": 75,
   "metadata": {},
   "outputs": [
    {
     "name": "stdout",
     "output_type": "stream",
     "text": [
      "<class 'pandas.core.frame.DataFrame'>\n",
      "Index: 554 entries, 0 to 560\n",
      "Data columns (total 11 columns):\n",
      " #   Column                            Non-Null Count  Dtype  \n",
      "---  ------                            --------------  -----  \n",
      " 0   NO                                554 non-null    int64  \n",
      " 1   USIA                              554 non-null    float64\n",
      " 2   PARITAS                           554 non-null    int64  \n",
      " 3   JARAK KELAHIRAN                   554 non-null    int64  \n",
      " 4   RIW HIPERTENSI                    554 non-null    int64  \n",
      " 5   RIW PE                            554 non-null    int64  \n",
      " 6   OBESITAS                          554 non-null    int64  \n",
      " 7   RIW DM                            554 non-null    int64  \n",
      " 8   RIW HIPERTENSI/PE DALAM KELUARGA  554 non-null    int64  \n",
      " 9   SOSEK RENDAH                      554 non-null    int64  \n",
      " 10  PE/Non PE                         554 non-null    int64  \n",
      "dtypes: float64(1), int64(10)\n",
      "memory usage: 51.9 KB\n"
     ]
    }
   ],
   "source": [
    "data2.info()"
   ]
  },
  {
   "cell_type": "code",
   "execution_count": 76,
   "metadata": {},
   "outputs": [],
   "source": [
    "data2.to_csv('kasus1.csv')"
   ]
  },
  {
   "cell_type": "code",
   "execution_count": 77,
   "metadata": {},
   "outputs": [],
   "source": [
    "df = pd.read_csv('kasus1.csv')"
   ]
  },
  {
   "cell_type": "code",
   "execution_count": 78,
   "metadata": {},
   "outputs": [
    {
     "data": {
      "text/html": [
       "<div>\n",
       "<style scoped>\n",
       "    .dataframe tbody tr th:only-of-type {\n",
       "        vertical-align: middle;\n",
       "    }\n",
       "\n",
       "    .dataframe tbody tr th {\n",
       "        vertical-align: top;\n",
       "    }\n",
       "\n",
       "    .dataframe thead th {\n",
       "        text-align: right;\n",
       "    }\n",
       "</style>\n",
       "<table border=\"1\" class=\"dataframe\">\n",
       "  <thead>\n",
       "    <tr style=\"text-align: right;\">\n",
       "      <th></th>\n",
       "      <th>Unnamed: 0</th>\n",
       "      <th>NO</th>\n",
       "      <th>USIA</th>\n",
       "      <th>PARITAS</th>\n",
       "      <th>JARAK KELAHIRAN</th>\n",
       "      <th>RIW HIPERTENSI</th>\n",
       "      <th>RIW PE</th>\n",
       "      <th>OBESITAS</th>\n",
       "      <th>RIW DM</th>\n",
       "      <th>RIW HIPERTENSI/PE DALAM KELUARGA</th>\n",
       "      <th>SOSEK RENDAH</th>\n",
       "      <th>PE/Non PE</th>\n",
       "    </tr>\n",
       "  </thead>\n",
       "  <tbody>\n",
       "    <tr>\n",
       "      <th>0</th>\n",
       "      <td>0</td>\n",
       "      <td>1</td>\n",
       "      <td>23.0</td>\n",
       "      <td>3</td>\n",
       "      <td>0</td>\n",
       "      <td>0</td>\n",
       "      <td>0</td>\n",
       "      <td>0</td>\n",
       "      <td>1</td>\n",
       "      <td>0</td>\n",
       "      <td>1</td>\n",
       "      <td>0</td>\n",
       "    </tr>\n",
       "    <tr>\n",
       "      <th>1</th>\n",
       "      <td>1</td>\n",
       "      <td>2</td>\n",
       "      <td>29.0</td>\n",
       "      <td>2</td>\n",
       "      <td>0</td>\n",
       "      <td>0</td>\n",
       "      <td>1</td>\n",
       "      <td>0</td>\n",
       "      <td>0</td>\n",
       "      <td>1</td>\n",
       "      <td>1</td>\n",
       "      <td>1</td>\n",
       "    </tr>\n",
       "    <tr>\n",
       "      <th>2</th>\n",
       "      <td>2</td>\n",
       "      <td>3</td>\n",
       "      <td>20.0</td>\n",
       "      <td>1</td>\n",
       "      <td>2</td>\n",
       "      <td>0</td>\n",
       "      <td>0</td>\n",
       "      <td>0</td>\n",
       "      <td>0</td>\n",
       "      <td>0</td>\n",
       "      <td>1</td>\n",
       "      <td>0</td>\n",
       "    </tr>\n",
       "    <tr>\n",
       "      <th>3</th>\n",
       "      <td>3</td>\n",
       "      <td>4</td>\n",
       "      <td>18.0</td>\n",
       "      <td>1</td>\n",
       "      <td>2</td>\n",
       "      <td>0</td>\n",
       "      <td>0</td>\n",
       "      <td>0</td>\n",
       "      <td>0</td>\n",
       "      <td>0</td>\n",
       "      <td>1</td>\n",
       "      <td>0</td>\n",
       "    </tr>\n",
       "    <tr>\n",
       "      <th>4</th>\n",
       "      <td>4</td>\n",
       "      <td>5</td>\n",
       "      <td>34.0</td>\n",
       "      <td>3</td>\n",
       "      <td>1</td>\n",
       "      <td>0</td>\n",
       "      <td>0</td>\n",
       "      <td>0</td>\n",
       "      <td>0</td>\n",
       "      <td>0</td>\n",
       "      <td>1</td>\n",
       "      <td>0</td>\n",
       "    </tr>\n",
       "  </tbody>\n",
       "</table>\n",
       "</div>"
      ],
      "text/plain": [
       "   Unnamed: 0  NO  USIA  PARITAS  JARAK KELAHIRAN  RIW HIPERTENSI  RIW PE  \\\n",
       "0           0   1  23.0        3                0               0       0   \n",
       "1           1   2  29.0        2                0               0       1   \n",
       "2           2   3  20.0        1                2               0       0   \n",
       "3           3   4  18.0        1                2               0       0   \n",
       "4           4   5  34.0        3                1               0       0   \n",
       "\n",
       "   OBESITAS  RIW DM  RIW HIPERTENSI/PE DALAM KELUARGA  SOSEK RENDAH  PE/Non PE  \n",
       "0         0       1                                 0             1          0  \n",
       "1         0       0                                 1             1          1  \n",
       "2         0       0                                 0             1          0  \n",
       "3         0       0                                 0             1          0  \n",
       "4         0       0                                 0             1          0  "
      ]
     },
     "execution_count": 78,
     "metadata": {},
     "output_type": "execute_result"
    }
   ],
   "source": [
    "df.head()"
   ]
  },
  {
   "cell_type": "code",
   "execution_count": 86,
   "metadata": {},
   "outputs": [
    {
     "data": {
      "image/png": "[encoded data removed]",
      "text/plain": [
       "<Figure size 800x600 with 1 Axes>"
      ]
     },
     "metadata": {},
     "output_type": "display_data"
    },
    {
     "data": {
      "image/png": "[encoded data removed]",
      "text/plain": [
       "<Figure size 800x600 with 1 Axes>"
      ]
     },
     "metadata": {},
     "output_type": "display_data"
    }
   ],
   "source": [
    "df['PE/Non PE'] = df['PE/Non PE'].astype(str)\n",
    "\n",
    "# Scatterplot antara Usia dan Paritas\n",
    "plt.figure(figsize=(8, 6))\n",
    "sns.scatterplot(x='USIA', y='PARITAS', data=df, hue='PE/Non PE', palette=\"Set1\")\n",
    "plt.title('Scatterplot antara Usia dan Paritas')\n",
    "plt.xlabel('Usia')\n",
    "plt.ylabel('Paritas')\n",
    "plt.show()\n",
    "\n",
    "# Scatterplot antara Usia dan Jarak Kelahiran\n",
    "plt.figure(figsize=(8, 6))\n",
    "sns.scatterplot(x='USIA', y='JARAK KELAHIRAN', data=df, hue='PE/Non PE', palette=\"Set2\")\n",
    "plt.title('Scatterplot antara Usia dan Jarak Kelahiran')\n",
    "plt.xlabel('Usia')\n",
    "plt.ylabel('Jarak Kelahiran')\n",
    "plt.show()\n"
   ]
  },
  {
   "cell_type": "code",
   "execution_count": 87,
   "metadata": {},
   "outputs": [
    {
     "name": "stderr",
     "output_type": "stream",
     "text": [
      "C:\\Users\\ACER\\AppData\\Local\\Temp\\ipykernel_4044\\883187971.py:18: FutureWarning: \n",
      "\n",
      "Passing `palette` without assigning `hue` is deprecated and will be removed in v0.14.0. Assign the `x` variable to `hue` and set `legend=False` for the same effect.\n",
      "\n",
      "  sns.countplot(x='RIW HIPERTENSI', data=df, ax=axes[1, 0], palette=\"Set2\")\n",
      "C:\\Users\\ACER\\AppData\\Local\\Temp\\ipykernel_4044\\883187971.py:22: FutureWarning: \n",
      "\n",
      "Passing `palette` without assigning `hue` is deprecated and will be removed in v0.14.0. Assign the `x` variable to `hue` and set `legend=False` for the same effect.\n",
      "\n",
      "  sns.countplot(x='OBESITAS', data=df, ax=axes[1, 1], palette=\"Set2\")\n",
      "C:\\Users\\ACER\\AppData\\Local\\Temp\\ipykernel_4044\\883187971.py:26: FutureWarning: \n",
      "\n",
      "Passing `palette` without assigning `hue` is deprecated and will be removed in v0.14.0. Assign the `x` variable to `hue` and set `legend=False` for the same effect.\n",
      "\n",
      "  sns.countplot(x='PE/Non PE', data=df, ax=axes[2, 0], palette=\"Set1\")\n"
     ]
    },
    {
     "data": {
      "image/png": "[encoded data removed]",
      "text/plain": [
       "<Figure size 1200x1000 with 6 Axes>"
      ]
     },
     "metadata": {},
     "output_type": "display_data"
    }
   ],
   "source": [
    "#konversi data menjadi string\n",
    "df['RIW HIPERTENSI'] = df['RIW HIPERTENSI'].astype(str)\n",
    "df['OBESITAS'] = df['OBESITAS'].astype(str)\n",
    "df['PE/Non PE'] = df['PE/Non PE'].astype(str)\n",
    "\n",
    "# Plotting again after conversion\n",
    "fig, axes = plt.subplots(3, 2, figsize=(12, 10))\n",
    "\n",
    "# Visualisasi data Usia\n",
    "sns.histplot(df['USIA'], bins=15, kde=True, ax=axes[0, 0], color=\"skyblue\")\n",
    "axes[0, 0].set_title('Distribusi Usia (USIA)')\n",
    "\n",
    "# Visualisasi data Paritas (PARITAS)\n",
    "sns.histplot(df['PARITAS'], bins=10, kde=False, ax=axes[0, 1], color=\"lightgreen\")\n",
    "axes[0, 1].set_title('Distribusi Paritas (PARITAS)')\n",
    "\n",
    "# Visualisasi Data Riwayat Hipertensi (RIW HIPERTENSI)\n",
    "sns.countplot(x='RIW HIPERTENSI', data=df, ax=axes[1, 0], palette=\"Set2\")\n",
    "axes[1, 0].set_title('Riwayat Hipertensi (RIW HIPERTENSI)')\n",
    "\n",
    "# Visualisasi data Obesitas (OBESITAS)\n",
    "sns.countplot(x='OBESITAS', data=df, ax=axes[1, 1], palette=\"Set2\")\n",
    "axes[1, 1].set_title('Obesitas (OBESITAS)')\n",
    "\n",
    "# Visualisasi Data PE/Non PE (Target Variable)\n",
    "sns.countplot(x='PE/Non PE', data=df, ax=axes[2, 0], palette=\"Set1\")\n",
    "axes[2, 0].set_title('Distribusi PE/Non PE')\n",
    "\n",
    "# Menyembunyikan plot yang kosong\n",
    "axes[2, 1].axis('off')\n",
    "\n",
    "# Adjust layout\n",
    "plt.tight_layout()\n",
    "plt.show()"
   ]
  },
  {
   "cell_type": "code",
   "execution_count": null,
   "metadata": {},
   "outputs": [],
   "source": []
  }
 ],
 "metadata": {
  "kernelspec": {
   "display_name": "Python 3",
   "language": "python",
   "name": "python3"
  },
  "language_info": {
   "codemirror_mode": {
    "name": "ipython",
    "version": 3
   },
   "file_extension": ".py",
   "mimetype": "text/x-python",
   "name": "python",
   "nbconvert_exporter": "python",
   "pygments_lexer": "ipython3",
   "version": "3.12.7"
  }
 },
 "nbformat": 4,
 "nbformat_minor": 2
}
